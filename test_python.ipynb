{
 "cells": [
  {
   "cell_type": "code",
   "execution_count": 1,
   "metadata": {},
   "outputs": [],
   "source": [
    "import pandas as pd\n",
    "dataset = \"owid-covid-data.csv\"\n",
    "dataset = pd.read_csv(dataset)"
   ]
  },
  {
   "cell_type": "code",
   "execution_count": 2,
   "metadata": {},
   "outputs": [
    {
     "name": "stdout",
     "output_type": "stream",
     "text": [
      "Dimensioni del dataset: 313070 righe per 67 colonne\n"
     ]
    }
   ],
   "source": [
    "#Assegno le variabili per le dimensioni e le stampo\n",
    "dimensioni = dataset.shape\n",
    "num_righe = dimensioni[0]\n",
    "num_colonne = dimensioni[1]\n",
    "print(\"Dimensioni del dataset:\", num_righe, \"righe per\", num_colonne, \"colonne\")"
   ]
  },
  {
   "cell_type": "code",
   "execution_count": 3,
   "metadata": {},
   "outputs": [
    {
     "name": "stdout",
     "output_type": "stream",
     "text": [
      "Intestazione del dataset:\n",
      "['iso_code', 'continent', 'location', 'date', 'total_cases', 'new_cases', 'new_cases_smoothed', 'total_deaths', 'new_deaths', 'new_deaths_smoothed', 'total_cases_per_million', 'new_cases_per_million', 'new_cases_smoothed_per_million', 'total_deaths_per_million', 'new_deaths_per_million', 'new_deaths_smoothed_per_million', 'reproduction_rate', 'icu_patients', 'icu_patients_per_million', 'hosp_patients', 'hosp_patients_per_million', 'weekly_icu_admissions', 'weekly_icu_admissions_per_million', 'weekly_hosp_admissions', 'weekly_hosp_admissions_per_million', 'total_tests', 'new_tests', 'total_tests_per_thousand', 'new_tests_per_thousand', 'new_tests_smoothed', 'new_tests_smoothed_per_thousand', 'positive_rate', 'tests_per_case', 'tests_units', 'total_vaccinations', 'people_vaccinated', 'people_fully_vaccinated', 'total_boosters', 'new_vaccinations', 'new_vaccinations_smoothed', 'total_vaccinations_per_hundred', 'people_vaccinated_per_hundred', 'people_fully_vaccinated_per_hundred', 'total_boosters_per_hundred', 'new_vaccinations_smoothed_per_million', 'new_people_vaccinated_smoothed', 'new_people_vaccinated_smoothed_per_hundred', 'stringency_index', 'population_density', 'median_age', 'aged_65_older', 'aged_70_older', 'gdp_per_capita', 'extreme_poverty', 'cardiovasc_death_rate', 'diabetes_prevalence', 'female_smokers', 'male_smokers', 'handwashing_facilities', 'hospital_beds_per_thousand', 'life_expectancy', 'human_development_index', 'population', 'excess_mortality_cumulative_absolute', 'excess_mortality_cumulative', 'excess_mortality', 'excess_mortality_cumulative_per_million']\n"
     ]
    }
   ],
   "source": [
    "#Assegno e spampo la lista contenente l'intestazione\n",
    "intestazione = dataset.columns.tolist()\n",
    "print(\"Intestazione del dataset:\")\n",
    "print(intestazione)"
   ]
  },
  {
   "cell_type": "code",
   "execution_count": 4,
   "metadata": {},
   "outputs": [],
   "source": [
    "#Filtro i valori \"NaN\" nella colonna \"continent\"\n",
    "dataset_filtrato = dataset.dropna(subset=['continent', 'total_cases'])"
   ]
  },
  {
   "cell_type": "code",
   "execution_count": 5,
   "metadata": {},
   "outputs": [
    {
     "name": "stdout",
     "output_type": "stream",
     "text": [
      "Valore totale dei casi per continente:\n",
      "continent\n",
      "Africa             4072533.0\n",
      "Asia              99261812.0\n",
      "Europe            39010097.0\n",
      "North America    103436829.0\n",
      "Oceania           11339196.0\n",
      "South America     37553337.0\n",
      "Name: total_cases, dtype: float64\n"
     ]
    }
   ],
   "source": [
    "#Trova estampa il valore massimo di \"total_cases\" per ciascun continente\n",
    "totale_per_continente = dataset_filtrato.groupby('continent')['total_cases'].max()\n",
    "print(\"Valore totale dei casi per continente:\")\n",
    "print(totale_per_continente)"
   ]
  },
  {
   "cell_type": "code",
   "execution_count": 6,
   "metadata": {},
   "outputs": [],
   "source": [
    "'''\n",
    "Così impostata, questa funzione tornerà utile anche per l'ultimo punto;\n",
    "bastera chiamarla tre volte passando ogni volta un'altra coppia uguale di continenti.\n",
    "'''\n",
    "def analisi(dataset, continente1, continente2):\n",
    "    #Filtro i possibili dati mancantoi\n",
    "    dataset_pulito = dataset.dropna(subset=['total_cases', 'date', 'continent'])\n",
    "\n",
    "    #Seleziono i continenti passati alla funzione\n",
    "    dati_continente1 = dataset_pulito[dataset_pulito['continent'] == continente1]\n",
    "    dati_continente2 = dataset_pulito[dataset_pulito['continent'] == continente2]\n",
    "\n",
    "    #Calcolo il numero massimo dei casi per entrambi i continenti\n",
    "    massimo_casi_continente1 = dati_continente1['total_cases'].max()\n",
    "    massimo_casi_continente2 = dati_continente2['total_cases'].max()\n",
    "\n",
    "    #Calcolo la media dei casi e arrotondo\n",
    "    media_casi_continente1 = round(dati_continente1['total_cases'].sum() / dati_continente1['date'].nunique())\n",
    "    media_casi_continente2 = round(dati_continente2['total_cases'].sum() / dati_continente2['date'].nunique())\n",
    "\n",
    "    #Calcolo la percentuale continenti rispetto al mondo e arrotondo\n",
    "    totale_casi_mondo = dataset_pulito['total_cases'].sum()\n",
    "    percentuale_casi_continente1 = round((dati_continente1['total_cases'].sum() / totale_casi_mondo) * 100, 2)\n",
    "    percentuale_casi_continente2 = round((dati_continente2['total_cases'].sum() / totale_casi_mondo) * 100, 2)\n",
    "\n",
    "    #Restituizione\n",
    "    return {\n",
    "        f'Massimo totale casi in {continente1}': massimo_casi_continente1,\n",
    "        f'Massimo totale casi in {continente2}': massimo_casi_continente2,\n",
    "        f'Media totale casi in {continente1}': media_casi_continente1,\n",
    "        f'Media totale casi in {continente2}': media_casi_continente2,\n",
    "        f'Percentuale di casi in {continente1} rispetto al mondo': percentuale_casi_continente1,\n",
    "        f'Percentuale di casi in {continente2} rispetto al mondo': percentuale_casi_continente2,\n",
    "    }\n"
   ]
  },
  {
   "cell_type": "code",
   "execution_count": 7,
   "metadata": {},
   "outputs": [
    {
     "name": "stdout",
     "output_type": "stream",
     "text": [
      "Massimo totale casi in Asia: 99261812.0\n",
      "Massimo totale casi in Europe: 39010097.0\n",
      "Media totale casi in Asia: 98389913\n",
      "Media totale casi in Europe: 103280234\n",
      "Percentuale di casi in Asia rispetto al mondo: 32.03\n",
      "Percentuale di casi in Europe rispetto al mondo: 33.62\n"
     ]
    }
   ],
   "source": [
    "'''\n",
    "Non ricordo se a lezione abbiamo mai usato questo modo di stampare i risultati.\n",
    "Avrei potuto usare i print direttamente dentro alla funzione ma non mi piaceva esteticamente.\n",
    "\n",
    "'''\n",
    "#Carico il dataset e chiamo la funzione\n",
    "dataset = pd.read_csv('owid-covid-data.csv')\n",
    "risultati = analisi(dataset, 'Asia', 'Europe')\n",
    "for chiave, valore in risultati.items():\n",
    "    print(f'{chiave}: {valore}')\n"
   ]
  },
  {
   "cell_type": "code",
   "execution_count": 42,
   "metadata": {},
   "outputs": [],
   "source": [
    "'''\n",
    "Uso quest'unica funzione per gli ultimi due punti:\n",
    "restituisce sia i risultati di tutti i continenti\n",
    "che quelli per Europe, South America e Oceania da utilizzare nell'ultimo punto.\n",
    "'''\n",
    "def totale_vaccinazioni_per_continente(dataset):\n",
    "    # Pulisco da dati mancanti 'total_vaccinations' e 'continent'\n",
    "    dataset_pulito = dataset.dropna(subset=['total_vaccinations', 'continent'])\n",
    "    \n",
    "    vaccinazioni_per_continente = round(dataset_pulito.groupby('continent')['total_vaccinations'].max()) # !non si arrotonda comunque!\n",
    "\n",
    "    # Creo le variabili per i singoli continenti in modo da usare un'unica funzione per due scopi\n",
    "    europe = vaccinazioni_per_continente.get('Europe', 0)\n",
    "    south_america = vaccinazioni_per_continente.get('South America', 0)\n",
    "    oceania = vaccinazioni_per_continente.get('Oceania', 0)\n",
    "    \n",
    "    # Creo un DataFrame per stampare una \"tabella\"\n",
    "    df = pd.DataFrame(vaccinazioni_per_continente)\n",
    "    df.columns = ['Numero di Vaccinazioni'] #vorrei aggiungere il nome anche alla prima colonna, non mi riesce forse perché essendo un indice non posso farlo\n",
    "    df.index.name = 'Continente'\n",
    "    \n",
    "    return df, europe, south_america, oceania\n"
   ]
  },
  {
   "cell_type": "code",
   "execution_count": 40,
   "metadata": {},
   "outputs": [
    {
     "name": "stdout",
     "output_type": "stream",
     "text": [
      "               Numero di Vaccinazioni\n",
      "Continente                           \n",
      "Africa                   1.166069e+08\n",
      "Asia                     3.491077e+09\n",
      "Europe                   1.922215e+08\n",
      "North America            6.767288e+08\n",
      "Oceania                  6.549236e+07\n",
      "South America            4.864364e+08\n"
     ]
    }
   ],
   "source": [
    "tutti_continenti, europe, south_america, oceania = totale_vaccinazioni_per_continente(dataset)\n",
    "print(f\"{tutti_continenti}\")"
   ]
  },
  {
   "cell_type": "code",
   "execution_count": 43,
   "metadata": {},
   "outputs": [
    {
     "name": "stdout",
     "output_type": "stream",
     "text": [
      "Vaccinazioni in Europa: 192221468.0\n",
      "Vaccinazioni in Sud America: 486436436.0\n",
      "Vaccinazioni in Oceania: 65492360.0\n"
     ]
    }
   ],
   "source": [
    "tutti_continenti, europe, south_america, oceania = totale_vaccinazioni_per_continente(dataset)\n",
    "print(f\"Vaccinazioni in Europa: {europe}\")\n",
    "print(f\"Vaccinazioni in Sud America: {south_america}\")\n",
    "print(f\"Vaccinazioni in Oceania: {oceania}\")\n"
   ]
  },
  {
   "cell_type": "code",
   "execution_count": 46,
   "metadata": {},
   "outputs": [],
   "source": [
    "# Richiamo le funzioni per scrivere le 3 righe di report.\n",
    "# Uso la funzione analisi() passandole due volte lo stesso continente.\n",
    "risultati_europa = analisi(dataset, 'Europe', 'Europe')\n",
    "risultati_sud_america = analisi(dataset, 'South America', 'South America')\n",
    "risultati_oceania = analisi(dataset, 'Oceania', 'Oceania')\n",
    "\n",
    "# Richiamo la funzione totale_vaccinazioni_per_continente per il report\n",
    "tutti_continenti, europe, south_america, oceania = totale_vaccinazioni_per_continente(dataset)"
   ]
  },
  {
   "cell_type": "code",
   "execution_count": 48,
   "metadata": {},
   "outputs": [
    {
     "name": "stdout",
     "output_type": "stream",
     "text": [
      "In Europa, il numero totale di casi è 39010097 con 192221468 vaccinazioni totali.\n",
      "In Sud America, il numero totale di casi è 37553337 con 486436436 vaccinazioni totali.\n",
      "In Oceania, il numero totale di casi è 11339196 con 65492360 vaccinazioni totali.\n"
     ]
    }
   ],
   "source": [
    "#STampo e converto i numeri in interi per facilitarne la lettura.\n",
    "print(f\"In Europa, il numero totale di casi è {int(risultati_europa['Massimo totale casi in Europe'])} con {int(europe)} vaccinazioni totali.\")\n",
    "print(f\"In Sud America, il numero totale di casi è {int(risultati_sud_america['Massimo totale casi in South America'])} con {int(south_america)} vaccinazioni totali.\")\n",
    "print(f\"In Oceania, il numero totale di casi è {int(risultati_oceania['Massimo totale casi in Oceania'])} con {int(oceania)} vaccinazioni totali.\")"
   ]
  }
 ],
 "metadata": {
  "kernelspec": {
   "display_name": "env_DataAnalyst",
   "language": "python",
   "name": "python3"
  },
  "language_info": {
   "codemirror_mode": {
    "name": "ipython",
    "version": 3
   },
   "file_extension": ".py",
   "mimetype": "text/x-python",
   "name": "python",
   "nbconvert_exporter": "python",
   "pygments_lexer": "ipython3",
   "version": "3.11.3"
  },
  "orig_nbformat": 4
 },
 "nbformat": 4,
 "nbformat_minor": 2
}
